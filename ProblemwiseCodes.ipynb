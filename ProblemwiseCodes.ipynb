{
  "nbformat": 4,
  "nbformat_minor": 0,
  "metadata": {
    "colab": {
      "name": "Sparsh Jain_20BCS127_OOPTask1.ipynb",
      "provenance": [],
      "authorship_tag": "ABX9TyPUh6pPTbmjMUfzHoe0XWJf",
      "include_colab_link": true
    },
    "kernelspec": {
      "name": "python3",
      "display_name": "Python 3"
    },
    "language_info": {
      "name": "python"
    }
  },
  "cells": [
    {
      "cell_type": "markdown",
      "metadata": {
        "id": "view-in-github",
        "colab_type": "text"
      },
      "source": [
        "<a href=\"https://colab.research.google.com/github/jainsparsh5/Sparsh_20BCS127_OOPTask1/blob/main/Sols.ipynb\" target=\"_parent\"><img src=\"https://colab.research.google.com/assets/colab-badge.svg\" alt=\"Open In Colab\"/></a>"
      ]
    },
    {
      "cell_type": "markdown",
      "metadata": {
        "id": "_4N7OdqdUJoB"
      },
      "source": [
        "Problem 1\n"
      ]
    },
    {
      "cell_type": "code",
      "metadata": {
        "colab": {
          "base_uri": "https://localhost:8080/"
        },
        "id": "Ccxp1UrOcW7c",
        "outputId": "3cd38ace-262f-45f3-d09f-d1192c794442"
      },
      "source": [
        "def leap(year):\n",
        "  if (year % 4) == 0:\n",
        "    if (year % 100) == 0:\n",
        "      if (year % 400) == 0:\n",
        "        return True\n",
        "      else:\n",
        "        return False\n",
        "    else:\n",
        "      return True\n",
        "  else:\n",
        "    return False\n",
        "year = int(input(\"year: \"))\n",
        "leap(year)"
      ],
      "execution_count": 14,
      "outputs": [
        {
          "name": "stdout",
          "output_type": "stream",
          "text": [
            "year: 2024\n"
          ]
        },
        {
          "output_type": "execute_result",
          "data": {
            "text/plain": [
              "True"
            ]
          },
          "metadata": {},
          "execution_count": 14
        }
      ]
    },
    {
      "cell_type": "markdown",
      "metadata": {
        "id": "ysJLKNqAcbZb"
      },
      "source": [
        "Problem 2"
      ]
    },
    {
      "cell_type": "code",
      "metadata": {
        "colab": {
          "base_uri": "https://localhost:8080/"
        },
        "id": "fJGndrjqcc9e",
        "outputId": "b70f246f-747c-4ed1-b271-2150a602a192"
      },
      "source": [
        "def nature(number):\n",
        "  if (number % 2 != 0):\n",
        "    print(\"Weird Number\")\n",
        "  elif (number % 2 == 0 and number in range(1, 6)):\n",
        "    print(\"Not Weird Number\")\n",
        "  elif (number % 2 == 0 and number in range(6, 20)):\n",
        "    print(\"Weird number\")\n",
        "  else:\n",
        "    print(\"Not Weird number\")\n",
        "number = int(input(\"number: \"))\n",
        "nature(number)"
      ],
      "execution_count": 15,
      "outputs": [
        {
          "output_type": "stream",
          "name": "stdout",
          "text": [
            "number: 44\n",
            "Not Weird number\n"
          ]
        }
      ]
    },
    {
      "cell_type": "markdown",
      "metadata": {
        "id": "mw-8Ko6tchfL"
      },
      "source": [
        "Problem 3 "
      ]
    },
    {
      "cell_type": "code",
      "metadata": {
        "colab": {
          "base_uri": "https://localhost:8080/"
        },
        "id": "DVVlHqbEciue",
        "outputId": "5c3b56fb-ac00-4062-ecc6-d4e37b2c7af5"
      },
      "source": [
        "def function():\n",
        "  size = int(input(\"Size of list: \"))\n",
        "  guest = []\n",
        "  for i in range(0, size):\n",
        "    data = input()\n",
        "    guest.append(data)\n",
        "  r = int((size-1)/2)\n",
        "  for i in range(r, size-1):\n",
        "     print(guest[i]+\" is fashionably late.\")\n",
        "\n",
        "function()"
      ],
      "execution_count": 17,
      "outputs": [
        {
          "output_type": "stream",
          "name": "stdout",
          "text": [
            "Size of list: 3\n",
            "Sparsh \n",
            "Rohan\n",
            "Tejas\n",
            "Rohan is fashionably late.\n"
          ]
        }
      ]
    },
    {
      "cell_type": "markdown",
      "metadata": {
        "id": "8AaEIeOxdGER"
      },
      "source": [
        "Problem 4"
      ]
    },
    {
      "cell_type": "code",
      "metadata": {
        "id": "pXy0iN5cdoTy"
      },
      "source": [
        "from array import array\n",
        "def fun(n, val):\n",
        "  \n",
        "  filter = []\n",
        "  for i in range(0, n):\n",
        "    data = input()\n",
        "    filter.append(data)\n",
        "    #for i in range(n):\n",
        "    filter[i] = filter[i].lower()\n",
        "    if any(val in word for word in filter):\n",
        "      print(\" present\")\n",
        "    else:\n",
        "      print(\"not present\")\n",
        "\n",
        "size = int(input(\"Size of String: \"))\n",
        "val = input(\"Enter value to be searched in lower case: \")\n",
        "fun(size, val)"
      ],
      "execution_count": null,
      "outputs": []
    },
    {
      "cell_type": "markdown",
      "metadata": {
        "id": "lS7zgCdZdp3b"
      },
      "source": [
        "Problem 5"
      ]
    },
    {
      "cell_type": "code",
      "metadata": {
        "id": "p_vhWf9Fdq8W"
      },
      "source": [
        "bp = int(input())\n",
        "da = 0.4*bp\n",
        "hra = 0.2*bp\n",
        "gp = bp+da+hra\n",
        "print(gp)"
      ],
      "execution_count": null,
      "outputs": []
    }
  ]
}
